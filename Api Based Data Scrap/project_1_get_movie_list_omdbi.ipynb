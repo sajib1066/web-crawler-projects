{
 "cells": [
  {
   "cell_type": "markdown",
   "metadata": {},
   "source": [
    "# Project 1\n",
    "## Api Based Data Scrap\n",
    "## Site url : http://www.omdbapi.com/"
   ]
  },
  {
   "cell_type": "markdown",
   "metadata": {},
   "source": [
    "import library"
   ]
  },
  {
   "cell_type": "code",
   "execution_count": 1,
   "metadata": {},
   "outputs": [],
   "source": [
    "from urllib.request import urlopen\n",
    "import json"
   ]
  },
  {
   "cell_type": "markdown",
   "metadata": {},
   "source": [
    "define api key and movie name"
   ]
  },
  {
   "cell_type": "code",
   "execution_count": 2,
   "metadata": {},
   "outputs": [],
   "source": [
    "api_key = 'f41c7e6d'\n",
    "movie_names = ['Joker', 'WALL-E', 'Psycho']"
   ]
  },
  {
   "cell_type": "markdown",
   "metadata": {},
   "source": [
    "create data list"
   ]
  },
  {
   "cell_type": "code",
   "execution_count": 3,
   "metadata": {},
   "outputs": [],
   "source": [
    "movies_title = []\n",
    "released = []\n",
    "internet_movie_database = []\n",
    "rotten_tomatoes = []"
   ]
  },
  {
   "cell_type": "markdown",
   "metadata": {},
   "source": [
    "data scrap"
   ]
  },
  {
   "cell_type": "code",
   "execution_count": 4,
   "metadata": {},
   "outputs": [],
   "source": [
    "for i in range(len(movie_names)):\n",
    "    url = 'http://www.omdbapi.com/?t={}&apikey={}'.format(movie_names[i], api_key)\n",
    "    response = urlopen(url)\n",
    "    data = response.read()\n",
    "    decode_data = data.decode()\n",
    "    json_data = json.loads(decode_data)\n",
    "    #print(json_data)\n",
    "    movies_title.append(json_data['Title'])\n",
    "    released.append(json_data['Released'])\n",
    "    internet_movie_database.append(json_data['Ratings'][0]['Value'])\n",
    "    rotten_tomatoes.append(json_data['Ratings'][1]['Value'])"
   ]
  },
  {
   "cell_type": "markdown",
   "metadata": {},
   "source": [
    "print movie list"
   ]
  },
  {
   "cell_type": "code",
   "execution_count": 5,
   "metadata": {},
   "outputs": [
    {
     "name": "stdout",
     "output_type": "stream",
     "text": [
      "['Joker', 'WALL·E', 'Psycho']\n",
      "['04 Oct 2019', '27 Jun 2008', '08 Sep 1960']\n",
      "['8.9/10', '8.4/10', '8.5/10']\n",
      "['68%', '95%', '96%']\n"
     ]
    }
   ],
   "source": [
    "print(movies_title)\n",
    "print(released)\n",
    "print(internet_movie_database)\n",
    "print(rotten_tomatoes)"
   ]
  },
  {
   "cell_type": "markdown",
   "metadata": {},
   "source": [
    "create csv file"
   ]
  },
  {
   "cell_type": "code",
   "execution_count": 6,
   "metadata": {},
   "outputs": [
    {
     "name": "stdout",
     "output_type": "stream",
     "text": [
      "my_movies.csv Created Successfully!\n"
     ]
    }
   ],
   "source": [
    "file_name = 'my_movies.csv'\n",
    "with open(file_name, 'w') as fobj:\n",
    "    fobj.write('Title' + ',' + 'Released' + ',' + 'Internet Movie Database Rating' + ',' + 'Rotten Tomatoes Rating' + '\\n')\n",
    "    for j in range(len(movies_title)):\n",
    "        fobj.write(movies_title[j] + ',' + released[j] + ',' + internet_movie_database[j] + ',' + rotten_tomatoes[j] + '\\n')\n",
    "print(file_name, 'Created Successfully!')"
   ]
  },
  {
   "cell_type": "code",
   "execution_count": null,
   "metadata": {},
   "outputs": [],
   "source": []
  }
 ],
 "metadata": {
  "kernelspec": {
   "display_name": "Python 3",
   "language": "python",
   "name": "python3"
  },
  "language_info": {
   "codemirror_mode": {
    "name": "ipython",
    "version": 3
   },
   "file_extension": ".py",
   "mimetype": "text/x-python",
   "name": "python",
   "nbconvert_exporter": "python",
   "pygments_lexer": "ipython3",
   "version": "3.7.3"
  }
 },
 "nbformat": 4,
 "nbformat_minor": 2
}
