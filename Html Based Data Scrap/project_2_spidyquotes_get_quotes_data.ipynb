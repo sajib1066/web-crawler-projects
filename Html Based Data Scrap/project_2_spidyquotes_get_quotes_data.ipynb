{
 "cells": [
  {
   "cell_type": "markdown",
   "metadata": {},
   "source": [
    "# Web Crawler Peoject-2\n",
    "## Data Scrap from http://spidyquotes.herokuapp.com/"
   ]
  },
  {
   "cell_type": "markdown",
   "metadata": {},
   "source": [
    "import library"
   ]
  },
  {
   "cell_type": "code",
   "execution_count": 1,
   "metadata": {},
   "outputs": [],
   "source": [
    "from urllib.request import urlopen\n",
    "from bs4 import BeautifulSoup as soup\n",
    "import time\n",
    "import random"
   ]
  },
  {
   "cell_type": "markdown",
   "metadata": {},
   "source": [
    "define base url"
   ]
  },
  {
   "cell_type": "code",
   "execution_count": 2,
   "metadata": {},
   "outputs": [],
   "source": [
    "url = 'http://spidyquotes.herokuapp.com/'"
   ]
  },
  {
   "cell_type": "markdown",
   "metadata": {},
   "source": [
    "define list"
   ]
  },
  {
   "cell_type": "code",
   "execution_count": 3,
   "metadata": {},
   "outputs": [],
   "source": [
    "author = []\n",
    "tags = []\n",
    "quote_list = []\n",
    "tag_list = []"
   ]
  },
  {
   "cell_type": "code",
   "execution_count": 4,
   "metadata": {},
   "outputs": [
    {
     "name": "stdout",
     "output_type": "stream",
     "text": [
      "http://spidyquotes.herokuapp.com/page/2/\n",
      "http://spidyquotes.herokuapp.com/page/3/\n",
      "http://spidyquotes.herokuapp.com/page/4/\n",
      "http://spidyquotes.herokuapp.com/page/5/\n",
      "http://spidyquotes.herokuapp.com/page/6/\n",
      "http://spidyquotes.herokuapp.com/page/7/\n",
      "http://spidyquotes.herokuapp.com/page/8/\n",
      "http://spidyquotes.herokuapp.com/page/9/\n",
      "http://spidyquotes.herokuapp.com/page/10/\n",
      "No More Page Available!\n"
     ]
    }
   ],
   "source": [
    "while True:\n",
    "    # open url\n",
    "    with urlopen(url) as f:\n",
    "        page_data = f.read()\n",
    "    \n",
    "    # load html code\n",
    "    page_html = soup(page_data, 'html.parser')\n",
    "    # get quotes data\n",
    "    quotes = page_html.find_all('div', {'class': 'quote'})\n",
    "    # slicing data\n",
    "    for quote in quotes:\n",
    "        # finding data\n",
    "        author_name = quote.find('small', {'class': 'author'}).text\n",
    "        tags_tag = quote.find('div', {'class': 'tags'})\n",
    "        tag = tags_tag.find_all('a')\n",
    "        quote_text = quote.find('span', {'class': 'text'}).text\n",
    "        # store data in list\n",
    "        author.append(author_name)\n",
    "        quote_list.append(quote_text)\n",
    "        tag_list = [tag[i].text for i in range(len(tag))]\n",
    "        tags.append(tag_list)\n",
    "    \n",
    "    # this is for get  dynamic url\n",
    "    try:\n",
    "        url_tag = page_html.find('li', {'class': 'next'})\n",
    "        page_url = url_tag.find('a')\n",
    "        if page_url.get('href'):\n",
    "            url = 'http://spidyquotes.herokuapp.com' + page_url.get('href')\n",
    "            print(url)\n",
    "        else:\n",
    "            break\n",
    "    except:\n",
    "        print('No More Page Available!')\n",
    "        break\n",
    "    # time sleep for slow response\n",
    "    time.sleep(random.randint(1,5))"
   ]
  },
  {
   "cell_type": "markdown",
   "metadata": {},
   "source": [
    "replace some data for write in csv file format"
   ]
  },
  {
   "cell_type": "code",
   "execution_count": 5,
   "metadata": {},
   "outputs": [],
   "source": [
    "new_tag = []\n",
    "new_quote_list = []\n",
    "    \n",
    "for k in range(len(tags)):\n",
    "    new_tag.append(str(tags[k]).replace(',', '|').replace(' ', '').replace('[', '').replace(']', '').replace(\"'\", ''))\n",
    "    \n",
    "for x in range(len(quote_list)):\n",
    "    new_quote_list.append(str(quote_list[x]).replace(',', '')) \n",
    "    "
   ]
  },
  {
   "cell_type": "markdown",
   "metadata": {},
   "source": [
    "write data in csv file"
   ]
  },
  {
   "cell_type": "code",
   "execution_count": 6,
   "metadata": {},
   "outputs": [
    {
     "name": "stdout",
     "output_type": "stream",
     "text": [
      "Data Scrap Successfully Done!\n"
     ]
    }
   ],
   "source": [
    "try:\n",
    "    with open('qoutes.csv', 'w') as fobj:\n",
    "        for j in range(len(author)):\n",
    "            fobj.write(author[j] + ',' + new_tag[j]+ ',' + new_quote_list[j] + '\\n')\n",
    "        print('Data Scrap Successfully Done!')\n",
    "except:\n",
    "    pass"
   ]
  },
  {
   "cell_type": "code",
   "execution_count": null,
   "metadata": {},
   "outputs": [],
   "source": []
  }
 ],
 "metadata": {
  "kernelspec": {
   "display_name": "Python 3",
   "language": "python",
   "name": "python3"
  },
  "language_info": {
   "codemirror_mode": {
    "name": "ipython",
    "version": 3
   },
   "file_extension": ".py",
   "mimetype": "text/x-python",
   "name": "python",
   "nbconvert_exporter": "python",
   "pygments_lexer": "ipython3",
   "version": "3.7.3"
  }
 },
 "nbformat": 4,
 "nbformat_minor": 2
}
