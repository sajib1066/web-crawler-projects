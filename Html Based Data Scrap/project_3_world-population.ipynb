{
 "cells": [
  {
   "cell_type": "markdown",
   "metadata": {},
   "source": [
    "## Countries in the world by population (2019)\n",
    "This list includes both countries and dependent territories. Data based on the latest United Nations Population Division estimates.\n",
    "Click on the name of the country or dependency for current estimates (live population clock), historical data, and projected figures.\n",
    "\n",
    "Data Scrap From: https://www.worldometers.info/world-population/population-by-country/"
   ]
  },
  {
   "cell_type": "code",
   "execution_count": 1,
   "metadata": {},
   "outputs": [],
   "source": [
    "from bs4 import BeautifulSoup\n",
    "import requests\n",
    "import pandas as pd"
   ]
  },
  {
   "cell_type": "code",
   "execution_count": 2,
   "metadata": {},
   "outputs": [],
   "source": [
    "url = 'https://www.worldometers.info/world-population/population-by-country/'\n",
    "response = requests.get(url)\n",
    "data = response.text\n",
    "soup = BeautifulSoup(data, \"html.parser\")"
   ]
  },
  {
   "cell_type": "code",
   "execution_count": 3,
   "metadata": {},
   "outputs": [],
   "source": [
    "table = soup.find('table', {'id': 'example2'})\n",
    "tbody = table.find('tbody')\n",
    "row = tbody.find_all('tr')"
   ]
  },
  {
   "cell_type": "code",
   "execution_count": 4,
   "metadata": {},
   "outputs": [],
   "source": [
    "country_data = {}\n",
    "count = 0"
   ]
  },
  {
   "cell_type": "code",
   "execution_count": 5,
   "metadata": {},
   "outputs": [],
   "source": [
    "for country in row:\n",
    "    country_name = country.find('a').text\n",
    "    td = country.find_all('td')\n",
    "    population = td[2].text\n",
    "    yearly_change = td[3].text\n",
    "    net_change = td[4].text\n",
    "    density = td[5].text\n",
    "    land_area = td[6].text\n",
    "    migrants = td[7].text\n",
    "    fert_rate = td[8].text\n",
    "    med_age = td[9].text\n",
    "    urban_pop = td[10].text\n",
    "    world_share = td[11].text\n",
    "    count += 1\n",
    "    country_data[count] = [country_name, population, yearly_change, net_change, density, land_area, migrants, fert_rate, med_age, urban_pop, world_share]\n",
    "    \n",
    "    \n",
    "    "
   ]
  },
  {
   "cell_type": "code",
   "execution_count": 6,
   "metadata": {},
   "outputs": [],
   "source": [
    "country_df = pd.DataFrame.from_dict(country_data, orient='index', columns=['Country', 'Population', 'Yearly Change', 'Net Change', 'Density(P/Km2)', 'Land Area(Km2)', 'Migrants(net)', 'Fert. Rate', 'Med. Age', 'Urban Pop(%)', 'World Share(%)'])\n"
   ]
  },
  {
   "cell_type": "code",
   "execution_count": 7,
   "metadata": {},
   "outputs": [
    {
     "data": {
      "text/html": [
       "<div>\n",
       "<style scoped>\n",
       "    .dataframe tbody tr th:only-of-type {\n",
       "        vertical-align: middle;\n",
       "    }\n",
       "\n",
       "    .dataframe tbody tr th {\n",
       "        vertical-align: top;\n",
       "    }\n",
       "\n",
       "    .dataframe thead th {\n",
       "        text-align: right;\n",
       "    }\n",
       "</style>\n",
       "<table border=\"1\" class=\"dataframe\">\n",
       "  <thead>\n",
       "    <tr style=\"text-align: right;\">\n",
       "      <th></th>\n",
       "      <th>Country</th>\n",
       "      <th>Population</th>\n",
       "      <th>Yearly Change</th>\n",
       "      <th>Net Change</th>\n",
       "      <th>Density(P/Km2)</th>\n",
       "      <th>Land Area(Km2)</th>\n",
       "      <th>Migrants(net)</th>\n",
       "      <th>Fert. Rate</th>\n",
       "      <th>Med. Age</th>\n",
       "      <th>Urban Pop(%)</th>\n",
       "      <th>World Share(%)</th>\n",
       "    </tr>\n",
       "  </thead>\n",
       "  <tbody>\n",
       "    <tr>\n",
       "      <th>1</th>\n",
       "      <td>China</td>\n",
       "      <td>1,433,783,686</td>\n",
       "      <td>0.43 %</td>\n",
       "      <td>6,135,900</td>\n",
       "      <td>153</td>\n",
       "      <td>9,388,211</td>\n",
       "      <td>-348,399</td>\n",
       "      <td>1.7</td>\n",
       "      <td>38</td>\n",
       "      <td>60 %</td>\n",
       "      <td>18.59 %</td>\n",
       "    </tr>\n",
       "    <tr>\n",
       "      <th>2</th>\n",
       "      <td>India</td>\n",
       "      <td>1,366,417,754</td>\n",
       "      <td>1.02 %</td>\n",
       "      <td>13,775,474</td>\n",
       "      <td>460</td>\n",
       "      <td>2,973,190</td>\n",
       "      <td>-532,687</td>\n",
       "      <td>2.2</td>\n",
       "      <td>28</td>\n",
       "      <td>35 %</td>\n",
       "      <td>17.71 %</td>\n",
       "    </tr>\n",
       "    <tr>\n",
       "      <th>3</th>\n",
       "      <td>United States</td>\n",
       "      <td>329,064,917</td>\n",
       "      <td>0.60 %</td>\n",
       "      <td>1,968,652</td>\n",
       "      <td>36</td>\n",
       "      <td>9,147,420</td>\n",
       "      <td>954,806</td>\n",
       "      <td>1.8</td>\n",
       "      <td>38</td>\n",
       "      <td>82 %</td>\n",
       "      <td>4.27 %</td>\n",
       "    </tr>\n",
       "    <tr>\n",
       "      <th>4</th>\n",
       "      <td>Indonesia</td>\n",
       "      <td>270,625,568</td>\n",
       "      <td>1.10 %</td>\n",
       "      <td>2,955,025</td>\n",
       "      <td>149</td>\n",
       "      <td>1,811,570</td>\n",
       "      <td>-98,955</td>\n",
       "      <td>2.3</td>\n",
       "      <td>30</td>\n",
       "      <td>56 %</td>\n",
       "      <td>3.51 %</td>\n",
       "    </tr>\n",
       "    <tr>\n",
       "      <th>5</th>\n",
       "      <td>Pakistan</td>\n",
       "      <td>216,565,318</td>\n",
       "      <td>2.04 %</td>\n",
       "      <td>4,337,032</td>\n",
       "      <td>281</td>\n",
       "      <td>770,880</td>\n",
       "      <td>-233,379</td>\n",
       "      <td>3.6</td>\n",
       "      <td>23</td>\n",
       "      <td>35 %</td>\n",
       "      <td>2.81 %</td>\n",
       "    </tr>\n",
       "  </tbody>\n",
       "</table>\n",
       "</div>"
      ],
      "text/plain": [
       "         Country     Population Yearly Change  Net Change Density(P/Km2)  \\\n",
       "1          China  1,433,783,686        0.43 %   6,135,900            153   \n",
       "2          India  1,366,417,754        1.02 %  13,775,474            460   \n",
       "3  United States    329,064,917        0.60 %   1,968,652             36   \n",
       "4      Indonesia    270,625,568        1.10 %   2,955,025            149   \n",
       "5       Pakistan    216,565,318        2.04 %   4,337,032            281   \n",
       "\n",
       "  Land Area(Km2) Migrants(net) Fert. Rate Med. Age Urban Pop(%) World Share(%)  \n",
       "1      9,388,211      -348,399        1.7       38         60 %        18.59 %  \n",
       "2      2,973,190      -532,687        2.2       28         35 %        17.71 %  \n",
       "3      9,147,420       954,806        1.8       38         82 %         4.27 %  \n",
       "4      1,811,570       -98,955        2.3       30         56 %         3.51 %  \n",
       "5        770,880      -233,379        3.6       23         35 %         2.81 %  "
      ]
     },
     "execution_count": 7,
     "metadata": {},
     "output_type": "execute_result"
    }
   ],
   "source": [
    "country_df.head()"
   ]
  },
  {
   "cell_type": "code",
   "execution_count": 8,
   "metadata": {},
   "outputs": [],
   "source": [
    "country_df.to_csv('world-population.csv')"
   ]
  },
  {
   "cell_type": "markdown",
   "metadata": {},
   "source": [
    "Thank You!\n",
    "[Contact Me](https://www.facebook.com/sajib1058)"
   ]
  }
 ],
 "metadata": {
  "kernelspec": {
   "display_name": "Python 3",
   "language": "python",
   "name": "python3"
  },
  "language_info": {
   "codemirror_mode": {
    "name": "ipython",
    "version": 3
   },
   "file_extension": ".py",
   "mimetype": "text/x-python",
   "name": "python",
   "nbconvert_exporter": "python",
   "pygments_lexer": "ipython3",
   "version": "3.7.3"
  }
 },
 "nbformat": 4,
 "nbformat_minor": 2
}
